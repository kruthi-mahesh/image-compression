{
 "cells": [
  {
   "cell_type": "code",
   "execution_count": 1,
   "metadata": {
    "collapsed": true
   },
   "outputs": [],
   "source": [
    "from sklearn.datasets.samples_generator import make_blobs\n",
    "import matplotlib.pyplot as plt\n",
    "import numpy as np\n",
    "# for getting all figures inside the notebook\n",
    "\n",
    "%matplotlib inline"
   ]
  },
  {
   "cell_type": "code",
   "execution_count": 2,
   "metadata": {
    "collapsed": true
   },
   "outputs": [],
   "source": [
    "X,y = make_blobs(n_samples=2000,centers=3,n_features = 3,cluster_std=1.0,random_state=0)"
   ]
  },
  {
   "cell_type": "code",
   "execution_count": 3,
   "metadata": {},
   "outputs": [
    {
     "name": "stdout",
     "output_type": "stream",
     "text": [
      "(2000, 3)\n",
      "[[ 0.37819659 -0.82265364  4.41250488]\n",
      " [ 0.11290836  8.0727675   9.91499801]\n",
      " [ 1.87598643 -2.86233678  1.95530677]\n",
      " ..., \n",
      " [ 1.5826506  -0.52679473  2.35526587]\n",
      " [-1.03349156  8.51604336  9.54605506]\n",
      " [ 2.2699958  -2.52264855  1.75561551]]\n"
     ]
    }
   ],
   "source": [
    "print(X.shape)\n",
    "print(X)"
   ]
  },
  {
   "cell_type": "code",
   "execution_count": 4,
   "metadata": {},
   "outputs": [
    {
     "name": "stdout",
     "output_type": "stream",
     "text": [
      "(2000,)\n",
      "[1 2 1 ..., 1 2 1]\n"
     ]
    }
   ],
   "source": [
    "print(y.shape)\n",
    "print(y)"
   ]
  },
  {
   "cell_type": "code",
   "execution_count": 5,
   "metadata": {},
   "outputs": [
    {
     "data": {
      "text/plain": [
       "<matplotlib.collections.PathCollection at 0x2b200865da0>"
      ]
     },
     "execution_count": 5,
     "metadata": {},
     "output_type": "execute_result"
    },
    {
     "data": {
      "image/png": "[encoded data removed]",
      "text/plain": [
       "<matplotlib.figure.Figure at 0x2b2005ff160>"
      ]
     },
     "metadata": {},
     "output_type": "display_data"
    }
   ],
   "source": [
    "plt.scatter(X[:,0],X[:,1],c='black')"
   ]
  },
  {
   "cell_type": "code",
   "execution_count": 6,
   "metadata": {
    "collapsed": true
   },
   "outputs": [],
   "source": [
    "def computeDistance(x1,x2):\n",
    "    '''Euclidean distance'''\n",
    "    return np.sqrt(np.sum(np.power((x1-x2),2)))"
   ]
  },
  {
   "cell_type": "code",
   "execution_count": 7,
   "metadata": {
    "collapsed": true
   },
   "outputs": [],
   "source": [
    "def randomInit(X,no_of_clusters,no_of_samples,nof):\n",
    "    centroids = []\n",
    "    for i in range(no_of_clusters):\n",
    "        temp = np.random.randint(0,no_of_samples)\n",
    "        tempcents = []\n",
    "        for j in range(nof):\n",
    "            tempcents.append(X[temp,j])\n",
    "        centroids.append(tempcents)\n",
    "    centroids = np.matrix(centroids)\n",
    "    return centroids"
   ]
  },
  {
   "cell_type": "code",
   "execution_count": 8,
   "metadata": {
    "collapsed": true
   },
   "outputs": [],
   "source": [
    "def labelling(x,centroids):\n",
    "    distances = {}\n",
    "    for i in range(len(centroids)):\n",
    "        distances[computeDistance(x,centroids[i,:])] = i\n",
    "    return distances[min(distances.keys())]"
   ]
  },
  {
   "cell_type": "code",
   "execution_count": 9,
   "metadata": {
    "collapsed": true
   },
   "outputs": [],
   "source": [
    "def clusterAssignment(X,clusters,centroids):\n",
    "    for i in range(len(X)):\n",
    "        clusters[i] = labelling(X[i,:],centroids)\n",
    "    return clusters"
   ]
  },
  {
   "cell_type": "code",
   "execution_count": 10,
   "metadata": {
    "collapsed": true
   },
   "outputs": [],
   "source": [
    "def updateCentroid(X,clusters,centroids,nof):\n",
    "    sums = np.matrix(np.zeros(centroids.shape))\n",
    "    count = np.zeros(len(centroids),dtype=int)\n",
    "    newCentroids = np.matrix(np.zeros(centroids.shape))\n",
    "    for i in range(len(X)):\n",
    "        for j in range(nof):\n",
    "            sums[clusters[i],j]+=X[i,j]\n",
    "        count[clusters[i]]+=1\n",
    "    for i in range(len(centroids)):\n",
    "        newCentroids[i,:] = sums[i,:]/count[i]\n",
    "\n",
    "    return newCentroids"
   ]
  },
  {
   "cell_type": "code",
   "execution_count": 11,
   "metadata": {},
   "outputs": [
    {
     "name": "stdout",
     "output_type": "stream",
     "text": [
      "(2000,)\n",
      "[0 0 0 ..., 0 0 0]\n"
     ]
    }
   ],
   "source": [
    "clusters = np.zeros(len(X),dtype=int)\n",
    "print(clusters.shape)\n",
    "print(clusters)"
   ]
  },
  {
   "cell_type": "code",
   "execution_count": 12,
   "metadata": {
    "collapsed": true
   },
   "outputs": [],
   "source": [
    "centroids = randomInit(X,3,len(X),3)\n"
   ]
  },
  {
   "cell_type": "code",
   "execution_count": 13,
   "metadata": {},
   "outputs": [
    {
     "name": "stdout",
     "output_type": "stream",
     "text": [
      "[2 0 2 ..., 2 0 2]\n"
     ]
    }
   ],
   "source": [
    "clusters = clusterAssignment(X,clusters,centroids)\n",
    "print(clusters)"
   ]
  },
  {
   "cell_type": "code",
   "execution_count": 14,
   "metadata": {
    "collapsed": true
   },
   "outputs": [],
   "source": [
    "new_centroids = updateCentroid(X,clusters,centroids,3)"
   ]
  },
  {
   "cell_type": "code",
   "execution_count": 15,
   "metadata": {},
   "outputs": [
    {
     "name": "stdout",
     "output_type": "stream",
     "text": [
      "[[ 0.80900917  7.49477032  9.29507316]\n",
      " [ 0.77883227  4.03255425  1.89680049]\n",
      " [ 0.7269988   3.144901    2.10686453]]\n",
      "[[-1.20387321  7.81687692  9.3206707 ]\n",
      " [ 1.04678479  4.67970538  1.91374851]\n",
      " [ 0.91199564 -0.63748688  2.77114788]]\n",
      "[[ 2.01288238  0.3221066   0.02559754]\n",
      " [ 0.26795251  0.64715112  0.01694802]\n",
      " [ 0.18499684  3.78238788  0.66428335]]\n",
      "False\n"
     ]
    }
   ],
   "source": [
    "print(centroids)\n",
    "print(new_centroids)\n",
    "dif = np.abs(np.subtract(new_centroids,centroids))\n",
    "print(dif)\n",
    "decision = (dif<0.001).all()\n",
    "print(decision)"
   ]
  },
  {
   "cell_type": "code",
   "execution_count": 16,
   "metadata": {
    "collapsed": true
   },
   "outputs": [],
   "source": [
    "centroids = new_centroids"
   ]
  },
  {
   "cell_type": "code",
   "execution_count": 17,
   "metadata": {
    "collapsed": true
   },
   "outputs": [],
   "source": [
    "def kmeans_call(X,clusters,centroids,nof): \n",
    "    count = 0\n",
    "    while True:\n",
    "        count += 1\n",
    "        print('old centroids')\n",
    "        print(centroids)\n",
    "        clusters = clusterAssignment(X,clusters,centroids)\n",
    "        new_centroids = updateCentroid(X,clusters,centroids,nof)\n",
    "        print('new centroids')\n",
    "        print(new_centroids)\n",
    "        dif = np.abs(np.subtract(new_centroids,centroids))\n",
    "        print('dif')\n",
    "        print(dif)\n",
    "        decision = (dif<0.00001).all()\n",
    "        print(decision)\n",
    "        print('count of iterations' + str(count))\n",
    "        if(decision):\n",
    "            return centroids,clusters  \n",
    "        centroids = new_centroids"
   ]
  }
 ],
 "metadata": {
  "kernelspec": {
   "display_name": "Python 3",
   "language": "python",
   "name": "python3"
  },
  "language_info": {
   "codemirror_mode": {
    "name": "ipython",
    "version": 3
   },
   "file_extension": ".py",
   "mimetype": "text/x-python",
   "name": "python",
   "nbconvert_exporter": "python",
   "pygments_lexer": "ipython3",
   "version": "3.6.3"
  }
 },
 "nbformat": 4,
 "nbformat_minor": 2
}
